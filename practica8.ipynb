{
  "cells": [
    {
      "cell_type": "markdown",
      "metadata": {
        "id": "view-in-github",
        "colab_type": "text"
      },
      "source": [
        "<a href=\"https://colab.research.google.com/github/joberiai/Devour-Hope/blob/master/practica8.ipynb\" target=\"_parent\"><img src=\"https://colab.research.google.com/assets/colab-badge.svg\" alt=\"Open In Colab\"/></a>"
      ]
    },
    {
      "cell_type": "markdown",
      "metadata": {
        "id": "j9QbDR4prpR0"
      },
      "source": [
        "# Práctica 8. Visión por computador II\n",
        "\n",
        "En esta práctica vamos a crear un clasificador capaz de reconocer dígitos manuscritos, para ello utilizaremos el dataset [MNIST](http://yann.lecun.com/exdb/mnist/) que ya hemos utilizado en prácticas anteriores.\n",
        "\n",
        "Recordad los 5 pasos de un clasificador de imágenes:\n",
        "1. Preparar el dataset.\n",
        "2. Separar en conjuntos de entrenamiento, test y validación.\n",
        "3. Extraer descriptores.\n",
        "4. Entrenar el modelo.\n",
        "5. Evaluar el modelo.\n",
        "\n",
        "En muchas ocasiones los pasos 2 y 3 son intercambiables, y es lo que haremos en esta práctica.\n",
        "\n",
        "## 0. Carga del dataset y descripción de las imágenes\n",
        "\n",
        "Para cargar el dataset y describir las imágenes vamos a utilizar las clases `CargaYDescribe` (definida en el fichero CargaYDescribe.py de la carpeta p10) y la clase `Descriptor` junto con sus hijas (definidas en el fichero Descriptor.py también dentro de la carpeta p10). Deberás descargar esta carpeta y descomprimirla utilizando el siguiente comando.\n",
        "\n"
      ]
    },
    {
      "cell_type": "code",
      "execution_count": 1,
      "metadata": {
        "colab": {
          "base_uri": "https://localhost:8080/"
        },
        "id": "CBF0EfAG4yvg",
        "outputId": "15d17f70-f47f-4654-86f6-23edfbaf0cbb"
      },
      "outputs": [
        {
          "output_type": "stream",
          "name": "stdout",
          "text": [
            "--2024-04-20 16:14:41--  http://www.unirioja.es/cu/joheras/ia/p10/p10.zip\n",
            "Resolving www.unirioja.es (www.unirioja.es)... 193.146.238.61\n",
            "Connecting to www.unirioja.es (www.unirioja.es)|193.146.238.61|:80... connected.\n",
            "HTTP request sent, awaiting response... 302 Object moved\n",
            "Location: https://www.unirioja.es:443/cu/joheras/ia/p10/p10.zip [following]\n",
            "--2024-04-20 16:14:42--  https://www.unirioja.es/cu/joheras/ia/p10/p10.zip\n",
            "Connecting to www.unirioja.es (www.unirioja.es)|193.146.238.61|:443... connected.\n",
            "HTTP request sent, awaiting response... 302 Found\n",
            "Location: /cu/joheras/ia/p10/p10.zip [following]\n",
            "--2024-04-20 16:14:43--  https://www.unirioja.es/cu/joheras/ia/p10/p10.zip\n",
            "Reusing existing connection to www.unirioja.es:443.\n",
            "HTTP request sent, awaiting response... 200 No headers, assuming HTTP/0.9\n",
            "Length: unspecified\n",
            "Saving to: ‘p10.zip’\n",
            "\n",
            "p10.zip                 [            <=>     ]   1.60K  --.-KB/s    in 9.8s    \n",
            "\n",
            "2024-04-20 16:14:53 (168 B/s) - ‘p10.zip’ saved [1636]\n",
            "\n",
            "Archive:  p10.zip\n",
            "warning [p10.zip]:  362 extra bytes at beginning or within zipfile\n",
            "  (attempting to process anyway)\n",
            "   creating: p10/\n",
            "  inflating: p10/CargaYDescribe.py   \n",
            "  inflating: p10/Descriptor.py       \n",
            "  inflating: p10/__init__.py         \n"
          ]
        }
      ],
      "source": [
        "!wget www.unirioja.es/cu/joheras/ia/p10/p10.zip -O p10.zip\n",
        "!unzip p10.zip"
      ]
    },
    {
      "cell_type": "markdown",
      "metadata": {
        "id": "NULAJO80rpR2"
      },
      "source": [
        "Si abres el fichero Descriptor.py (puedes abrir dicho fichero pulsando en la pestaña con el símbolo \">\" que aparece a la izquierda de la pantalla y luego pulsando en la pestaña Files), verás la definición de la clase `Descriptor` y de dos clases hijas. La principal característica de la clase `Descriptor` es que tiene un método llamado `describe` que sirve para describir una imagen. Este método es abstracto y lo proporcionan las clases hijas.\n",
        "\n",
        "##### Pregunta\n",
        "\n",
        "¿Qué hacen los métodos ``describe`` de las clases RawImage y Projection?"
      ]
    },
    {
      "cell_type": "markdown",
      "source": [
        "\n",
        "\n",
        "*   El método 'describe' de la clase RawImage primer comprueba si la longitud del 'shape' de la imagen pasada es de 3, es decir, que tiene canales y, por tanto, está a color. Si esto se cumple, cambia el color de la imagen a la escala de grises. Para acabar devuelve la propia imagen aplanada, es decir, un array con sus píxeles.\n",
        "*   El método 'describe' de la clase Projection cambia la imagen a escala de grises en el caso de que esté a color, al igual que el de RawImage. Después, suma el valor de todos los píxeles de todas las filas y columnas de la imagen y los añade a un array, que es el parámetro de salida de la función.\n",
        "\n"
      ],
      "metadata": {
        "id": "5tu3BUqgUyd7"
      }
    },
    {
      "cell_type": "markdown",
      "metadata": {
        "id": "2_ZPT-N1rpSA"
      },
      "source": [
        "Si ahora abres el fichero CargaYDescribe.py verás la definición de la clase `CargaYDescribe`. Esta clase permite cargar y describir las imágenes de un directorio que está organizado mediante carpetas donde cada carpeta contiene\n",
        "las imágenes de una clase.\n",
        "\n",
        "El constructor de esta clase recibe dos parámetros, un objeto de la clase `Descriptor`, lo que nos permite cambiar fácilmente el método que usamos para describir las imágenes (esta es una técnica llamada inyección de dependencias que ya hemos utilizado alguna vez), y un path que es donde se encuentran las carpetas con las imágenes de cada clase.\n",
        "\n",
        "Definimos una variable donde almacenamos el path donde se encuentran nuestra imágenes. De nuevo, es necesario descargar la carpeta."
      ]
    },
    {
      "cell_type": "code",
      "execution_count": 2,
      "metadata": {
        "id": "rMZzBCja5HoW"
      },
      "outputs": [],
      "source": [
        "%%capture\n",
        "!wget www.unirioja.es/cu/joheras/ia/p10/digitos.zip\n",
        "!unzip digitos.zip"
      ]
    },
    {
      "cell_type": "code",
      "execution_count": 3,
      "metadata": {
        "collapsed": true,
        "id": "2EmVDz_6rpSC"
      },
      "outputs": [],
      "source": [
        "dataset = \"digitos/\""
      ]
    },
    {
      "cell_type": "markdown",
      "metadata": {
        "id": "yYX4NxktrpSI"
      },
      "source": [
        "Para este ejemplo vamos a utilizar como descriptor el RawImage."
      ]
    },
    {
      "cell_type": "code",
      "execution_count": 4,
      "metadata": {
        "collapsed": true,
        "id": "ZCsTUdsqrpSK"
      },
      "outputs": [],
      "source": [
        "from p10.Descriptor import *\n",
        "from p10.CargaYDescribe import *\n",
        "\n",
        "descriptor = Projection()\n",
        "cargaDatos = CargaYDescribe(dataset,descriptor)\n",
        "(datos,etiquetas) = cargaDatos.cargaYdescribe()"
      ]
    },
    {
      "cell_type": "markdown",
      "metadata": {
        "id": "P7leTQbxrpSO"
      },
      "source": [
        "##### Ejercicio\n",
        "\n",
        "Comprueba que puedes cambiar de descriptor y que todo sigue funcionando correctamente.\n"
      ]
    },
    {
      "cell_type": "code",
      "execution_count": 5,
      "metadata": {
        "collapsed": true,
        "id": "YbTUCZ8vrpSQ"
      },
      "outputs": [],
      "source": [
        "descriptor = RawImage()\n",
        "cargaDatos = CargaYDescribe(dataset,descriptor)\n",
        "(datos, etiquetas) = cargaDatos.cargaYdescribe()"
      ]
    },
    {
      "cell_type": "markdown",
      "metadata": {
        "id": "mbsfRgKUrpSU"
      },
      "source": [
        "## 1. Separando el conjunto de entrenamiento y el de test\n",
        "\n",
        "##### Ejercicio\n",
        "\n",
        "Utiliza la función train_test_split, vista en las prácticas de aprendizaje automático, para partir el dataset en la siguiente proporción: 75% entrenamiento, 25% test. Almacena la partición en las variables:\n",
        "`trainData`, `testData`, `trainLabels`, `testLabels`. Utiliza como random_state el valor 84 para así obtener siempre los mismos resultados."
      ]
    },
    {
      "cell_type": "code",
      "execution_count": 6,
      "metadata": {
        "collapsed": true,
        "id": "CboPOCaurpSW"
      },
      "outputs": [],
      "source": [
        "from sklearn.model_selection import train_test_split\n",
        "import numpy as np\n",
        "\n",
        "(trainData, testData, trainLabels, testLabels) = train_test_split(datos, etiquetas, test_size = 0.25, random_state = 84)"
      ]
    },
    {
      "cell_type": "markdown",
      "metadata": {
        "id": "ZioO9ftcrpSa"
      },
      "source": [
        "## 2. Entrenando el modelo\n",
        "\n",
        "Una vez que hemos partido el banco de imágenes, podemos entrenar distintos modelos como vimos en prácticas anteriores.\n",
        "\n",
        "**Ejercicio**\n",
        "\n",
        "Utiliza KNN y aplica validación cruzada para fijar los hiperparámetros."
      ]
    },
    {
      "cell_type": "code",
      "source": [
        "from sklearn.model_selection import cross_val_score\n",
        "from sklearn.neighbors import KNeighborsClassifier\n",
        "\n",
        "scores = []\n",
        "\n",
        "for k in range(1, 11):\n",
        "  modelKNN = KNeighborsClassifier(n_neighbors = k)\n",
        "  resultados = cross_val_score(modelKNN, trainData, trainLabels, cv = 10, scoring = 'accuracy')\n",
        "  scores.append(resultados.mean())\n",
        "\n",
        "print(scores)\n",
        "nVecinos = scores.index(np.max(scores)) + 1\n",
        "print(\"El número de vecinos debe ser\", nVecinos)"
      ],
      "metadata": {
        "id": "t2_LPlc9nbTY",
        "outputId": "82b9c7ee-0026-44b3-f345-b105538e9f53",
        "colab": {
          "base_uri": "https://localhost:8080/"
        }
      },
      "execution_count": 7,
      "outputs": [
        {
          "output_type": "stream",
          "name": "stdout",
          "text": [
            "[0.9145833333333334, 0.8859375, 0.9005208333333334, 0.90625, 0.9005208333333334, 0.8994791666666668, 0.8973958333333332, 0.8927083333333332, 0.8927083333333332, 0.8880208333333334]\n",
            "El número de vecinos debe ser 1\n"
          ]
        }
      ]
    },
    {
      "cell_type": "markdown",
      "metadata": {
        "id": "ZEeT3om5rpSo"
      },
      "source": [
        "**Ejercicio**\n",
        "\n",
        "Una vez hayas encontrado los mejores hiperparámetros almacena y entrena el modelo."
      ]
    },
    {
      "cell_type": "code",
      "execution_count": 8,
      "metadata": {
        "id": "tkf9PzVYrpSq",
        "outputId": "2598bb5f-85c2-486d-c9ed-f8d5c6641174",
        "colab": {
          "base_uri": "https://localhost:8080/",
          "height": 74
        }
      },
      "outputs": [
        {
          "output_type": "execute_result",
          "data": {
            "text/plain": [
              "KNeighborsClassifier(n_neighbors=1)"
            ],
            "text/html": [
              "<style>#sk-container-id-1 {color: black;background-color: white;}#sk-container-id-1 pre{padding: 0;}#sk-container-id-1 div.sk-toggleable {background-color: white;}#sk-container-id-1 label.sk-toggleable__label {cursor: pointer;display: block;width: 100%;margin-bottom: 0;padding: 0.3em;box-sizing: border-box;text-align: center;}#sk-container-id-1 label.sk-toggleable__label-arrow:before {content: \"▸\";float: left;margin-right: 0.25em;color: #696969;}#sk-container-id-1 label.sk-toggleable__label-arrow:hover:before {color: black;}#sk-container-id-1 div.sk-estimator:hover label.sk-toggleable__label-arrow:before {color: black;}#sk-container-id-1 div.sk-toggleable__content {max-height: 0;max-width: 0;overflow: hidden;text-align: left;background-color: #f0f8ff;}#sk-container-id-1 div.sk-toggleable__content pre {margin: 0.2em;color: black;border-radius: 0.25em;background-color: #f0f8ff;}#sk-container-id-1 input.sk-toggleable__control:checked~div.sk-toggleable__content {max-height: 200px;max-width: 100%;overflow: auto;}#sk-container-id-1 input.sk-toggleable__control:checked~label.sk-toggleable__label-arrow:before {content: \"▾\";}#sk-container-id-1 div.sk-estimator input.sk-toggleable__control:checked~label.sk-toggleable__label {background-color: #d4ebff;}#sk-container-id-1 div.sk-label input.sk-toggleable__control:checked~label.sk-toggleable__label {background-color: #d4ebff;}#sk-container-id-1 input.sk-hidden--visually {border: 0;clip: rect(1px 1px 1px 1px);clip: rect(1px, 1px, 1px, 1px);height: 1px;margin: -1px;overflow: hidden;padding: 0;position: absolute;width: 1px;}#sk-container-id-1 div.sk-estimator {font-family: monospace;background-color: #f0f8ff;border: 1px dotted black;border-radius: 0.25em;box-sizing: border-box;margin-bottom: 0.5em;}#sk-container-id-1 div.sk-estimator:hover {background-color: #d4ebff;}#sk-container-id-1 div.sk-parallel-item::after {content: \"\";width: 100%;border-bottom: 1px solid gray;flex-grow: 1;}#sk-container-id-1 div.sk-label:hover label.sk-toggleable__label {background-color: #d4ebff;}#sk-container-id-1 div.sk-serial::before {content: \"\";position: absolute;border-left: 1px solid gray;box-sizing: border-box;top: 0;bottom: 0;left: 50%;z-index: 0;}#sk-container-id-1 div.sk-serial {display: flex;flex-direction: column;align-items: center;background-color: white;padding-right: 0.2em;padding-left: 0.2em;position: relative;}#sk-container-id-1 div.sk-item {position: relative;z-index: 1;}#sk-container-id-1 div.sk-parallel {display: flex;align-items: stretch;justify-content: center;background-color: white;position: relative;}#sk-container-id-1 div.sk-item::before, #sk-container-id-1 div.sk-parallel-item::before {content: \"\";position: absolute;border-left: 1px solid gray;box-sizing: border-box;top: 0;bottom: 0;left: 50%;z-index: -1;}#sk-container-id-1 div.sk-parallel-item {display: flex;flex-direction: column;z-index: 1;position: relative;background-color: white;}#sk-container-id-1 div.sk-parallel-item:first-child::after {align-self: flex-end;width: 50%;}#sk-container-id-1 div.sk-parallel-item:last-child::after {align-self: flex-start;width: 50%;}#sk-container-id-1 div.sk-parallel-item:only-child::after {width: 0;}#sk-container-id-1 div.sk-dashed-wrapped {border: 1px dashed gray;margin: 0 0.4em 0.5em 0.4em;box-sizing: border-box;padding-bottom: 0.4em;background-color: white;}#sk-container-id-1 div.sk-label label {font-family: monospace;font-weight: bold;display: inline-block;line-height: 1.2em;}#sk-container-id-1 div.sk-label-container {text-align: center;}#sk-container-id-1 div.sk-container {/* jupyter's `normalize.less` sets `[hidden] { display: none; }` but bootstrap.min.css set `[hidden] { display: none !important; }` so we also need the `!important` here to be able to override the default hidden behavior on the sphinx rendered scikit-learn.org. See: https://github.com/scikit-learn/scikit-learn/issues/21755 */display: inline-block !important;position: relative;}#sk-container-id-1 div.sk-text-repr-fallback {display: none;}</style><div id=\"sk-container-id-1\" class=\"sk-top-container\"><div class=\"sk-text-repr-fallback\"><pre>KNeighborsClassifier(n_neighbors=1)</pre><b>In a Jupyter environment, please rerun this cell to show the HTML representation or trust the notebook. <br />On GitHub, the HTML representation is unable to render, please try loading this page with nbviewer.org.</b></div><div class=\"sk-container\" hidden><div class=\"sk-item\"><div class=\"sk-estimator sk-toggleable\"><input class=\"sk-toggleable__control sk-hidden--visually\" id=\"sk-estimator-id-1\" type=\"checkbox\" checked><label for=\"sk-estimator-id-1\" class=\"sk-toggleable__label sk-toggleable__label-arrow\">KNeighborsClassifier</label><div class=\"sk-toggleable__content\"><pre>KNeighborsClassifier(n_neighbors=1)</pre></div></div></div></div></div>"
            ]
          },
          "metadata": {},
          "execution_count": 8
        }
      ],
      "source": [
        "modelKNN = KNeighborsClassifier(n_neighbors = nVecinos)\n",
        "modelKNN.fit(trainData, trainLabels)"
      ]
    },
    {
      "cell_type": "markdown",
      "metadata": {
        "id": "JTnB_q0ErpSu"
      },
      "source": [
        "##### Ejercicio\n",
        "\n",
        "Utiliza otro de los algoritmos de clasificación vistos en las prácticas anteriores para crear un nuevo modelo."
      ]
    },
    {
      "cell_type": "code",
      "execution_count": 9,
      "metadata": {
        "collapsed": true,
        "id": "16Y0X-v2rpSu",
        "outputId": "ae2797ef-ab03-4bf7-d23c-81aa7012d3f2",
        "colab": {
          "base_uri": "https://localhost:8080/",
          "height": 74
        }
      },
      "outputs": [
        {
          "output_type": "execute_result",
          "data": {
            "text/plain": [
              "DecisionTreeClassifier(random_state=84)"
            ],
            "text/html": [
              "<style>#sk-container-id-2 {color: black;background-color: white;}#sk-container-id-2 pre{padding: 0;}#sk-container-id-2 div.sk-toggleable {background-color: white;}#sk-container-id-2 label.sk-toggleable__label {cursor: pointer;display: block;width: 100%;margin-bottom: 0;padding: 0.3em;box-sizing: border-box;text-align: center;}#sk-container-id-2 label.sk-toggleable__label-arrow:before {content: \"▸\";float: left;margin-right: 0.25em;color: #696969;}#sk-container-id-2 label.sk-toggleable__label-arrow:hover:before {color: black;}#sk-container-id-2 div.sk-estimator:hover label.sk-toggleable__label-arrow:before {color: black;}#sk-container-id-2 div.sk-toggleable__content {max-height: 0;max-width: 0;overflow: hidden;text-align: left;background-color: #f0f8ff;}#sk-container-id-2 div.sk-toggleable__content pre {margin: 0.2em;color: black;border-radius: 0.25em;background-color: #f0f8ff;}#sk-container-id-2 input.sk-toggleable__control:checked~div.sk-toggleable__content {max-height: 200px;max-width: 100%;overflow: auto;}#sk-container-id-2 input.sk-toggleable__control:checked~label.sk-toggleable__label-arrow:before {content: \"▾\";}#sk-container-id-2 div.sk-estimator input.sk-toggleable__control:checked~label.sk-toggleable__label {background-color: #d4ebff;}#sk-container-id-2 div.sk-label input.sk-toggleable__control:checked~label.sk-toggleable__label {background-color: #d4ebff;}#sk-container-id-2 input.sk-hidden--visually {border: 0;clip: rect(1px 1px 1px 1px);clip: rect(1px, 1px, 1px, 1px);height: 1px;margin: -1px;overflow: hidden;padding: 0;position: absolute;width: 1px;}#sk-container-id-2 div.sk-estimator {font-family: monospace;background-color: #f0f8ff;border: 1px dotted black;border-radius: 0.25em;box-sizing: border-box;margin-bottom: 0.5em;}#sk-container-id-2 div.sk-estimator:hover {background-color: #d4ebff;}#sk-container-id-2 div.sk-parallel-item::after {content: \"\";width: 100%;border-bottom: 1px solid gray;flex-grow: 1;}#sk-container-id-2 div.sk-label:hover label.sk-toggleable__label {background-color: #d4ebff;}#sk-container-id-2 div.sk-serial::before {content: \"\";position: absolute;border-left: 1px solid gray;box-sizing: border-box;top: 0;bottom: 0;left: 50%;z-index: 0;}#sk-container-id-2 div.sk-serial {display: flex;flex-direction: column;align-items: center;background-color: white;padding-right: 0.2em;padding-left: 0.2em;position: relative;}#sk-container-id-2 div.sk-item {position: relative;z-index: 1;}#sk-container-id-2 div.sk-parallel {display: flex;align-items: stretch;justify-content: center;background-color: white;position: relative;}#sk-container-id-2 div.sk-item::before, #sk-container-id-2 div.sk-parallel-item::before {content: \"\";position: absolute;border-left: 1px solid gray;box-sizing: border-box;top: 0;bottom: 0;left: 50%;z-index: -1;}#sk-container-id-2 div.sk-parallel-item {display: flex;flex-direction: column;z-index: 1;position: relative;background-color: white;}#sk-container-id-2 div.sk-parallel-item:first-child::after {align-self: flex-end;width: 50%;}#sk-container-id-2 div.sk-parallel-item:last-child::after {align-self: flex-start;width: 50%;}#sk-container-id-2 div.sk-parallel-item:only-child::after {width: 0;}#sk-container-id-2 div.sk-dashed-wrapped {border: 1px dashed gray;margin: 0 0.4em 0.5em 0.4em;box-sizing: border-box;padding-bottom: 0.4em;background-color: white;}#sk-container-id-2 div.sk-label label {font-family: monospace;font-weight: bold;display: inline-block;line-height: 1.2em;}#sk-container-id-2 div.sk-label-container {text-align: center;}#sk-container-id-2 div.sk-container {/* jupyter's `normalize.less` sets `[hidden] { display: none; }` but bootstrap.min.css set `[hidden] { display: none !important; }` so we also need the `!important` here to be able to override the default hidden behavior on the sphinx rendered scikit-learn.org. See: https://github.com/scikit-learn/scikit-learn/issues/21755 */display: inline-block !important;position: relative;}#sk-container-id-2 div.sk-text-repr-fallback {display: none;}</style><div id=\"sk-container-id-2\" class=\"sk-top-container\"><div class=\"sk-text-repr-fallback\"><pre>DecisionTreeClassifier(random_state=84)</pre><b>In a Jupyter environment, please rerun this cell to show the HTML representation or trust the notebook. <br />On GitHub, the HTML representation is unable to render, please try loading this page with nbviewer.org.</b></div><div class=\"sk-container\" hidden><div class=\"sk-item\"><div class=\"sk-estimator sk-toggleable\"><input class=\"sk-toggleable__control sk-hidden--visually\" id=\"sk-estimator-id-2\" type=\"checkbox\" checked><label for=\"sk-estimator-id-2\" class=\"sk-toggleable__label sk-toggleable__label-arrow\">DecisionTreeClassifier</label><div class=\"sk-toggleable__content\"><pre>DecisionTreeClassifier(random_state=84)</pre></div></div></div></div></div>"
            ]
          },
          "metadata": {},
          "execution_count": 9
        }
      ],
      "source": [
        "from sklearn.tree import DecisionTreeClassifier\n",
        "\n",
        "modelArbol = DecisionTreeClassifier(random_state = 84)\n",
        "modelArbol.fit(trainData, trainLabels)"
      ]
    },
    {
      "cell_type": "markdown",
      "metadata": {
        "id": "SN_0ro1XrpS0"
      },
      "source": [
        "## 3. Evaluando el modelo\n",
        "\n",
        "##### Ejercicio\n",
        "Una vez tienes tu modelo construido evalualo utilizando la función `classification_report` de la librería sklearn."
      ]
    },
    {
      "cell_type": "code",
      "execution_count": 10,
      "metadata": {
        "id": "6X1PD47UrpS2",
        "outputId": "e1c4048d-a23f-4cd7-dee5-0d5956ff882f",
        "colab": {
          "base_uri": "https://localhost:8080/"
        }
      },
      "outputs": [
        {
          "output_type": "stream",
          "name": "stdout",
          "text": [
            "              precision    recall  f1-score   support\n",
            "\n",
            "           0       0.94      1.00      0.97        66\n",
            "           1       0.80      0.98      0.88        42\n",
            "           2       0.94      0.84      0.89        69\n",
            "           3       0.84      0.89      0.87        66\n",
            "           4       0.93      0.86      0.90        66\n",
            "           5       0.89      0.89      0.89        74\n",
            "           6       0.97      0.99      0.98        71\n",
            "           7       0.92      0.93      0.92        58\n",
            "           8       0.98      0.72      0.83        58\n",
            "           9       0.85      0.94      0.89        70\n",
            "\n",
            "    accuracy                           0.90       640\n",
            "   macro avg       0.91      0.91      0.90       640\n",
            "weighted avg       0.91      0.90      0.90       640\n",
            "\n"
          ]
        }
      ],
      "source": [
        "from sklearn.metrics import classification_report\n",
        "\n",
        "predKNN = modelKNN.predict(testData)\n",
        "print(classification_report(y_true = testLabels, y_pred = predKNN))"
      ]
    },
    {
      "cell_type": "markdown",
      "metadata": {
        "id": "FZFyPNuxrpS6"
      },
      "source": [
        "##### Ejercicio\n",
        "\n",
        "A continuación muestra la matriz de confusión para ver dónde se producen los fallos."
      ]
    },
    {
      "cell_type": "code",
      "execution_count": 11,
      "metadata": {
        "id": "c9-BfoA2rpS-",
        "outputId": "1dd5f1d9-5c05-4e84-d119-9feb05a3e276",
        "colab": {
          "base_uri": "https://localhost:8080/"
        }
      },
      "outputs": [
        {
          "output_type": "stream",
          "name": "stdout",
          "text": [
            "MATRIZ DE CONFUSIÓN USANDO KNN\n",
            "[[66  0  0  0  0  0  0  0  0  0]\n",
            " [ 0 41  0  0  0  1  0  0  0  0]\n",
            " [ 2  2 58  2  0  0  0  4  0  1]\n",
            " [ 0  1  1 59  0  3  0  1  1  0]\n",
            " [ 0  1  0  0 57  0  0  0  0  8]\n",
            " [ 1  1  0  4  0 66  1  0  0  1]\n",
            " [ 1  0  0  0  0  0 70  0  0  0]\n",
            " [ 0  1  1  0  0  0  0 54  0  2]\n",
            " [ 0  4  2  4  1  4  1  0 42  0]\n",
            " [ 0  0  0  1  3  0  0  0  0 66]]\n"
          ]
        }
      ],
      "source": [
        "from sklearn.metrics import confusion_matrix\n",
        "\n",
        "print(\"MATRIZ DE CONFUSIÓN USANDO KNN\")\n",
        "print(confusion_matrix(testLabels, predKNN))"
      ]
    },
    {
      "cell_type": "markdown",
      "source": [
        "*Árbol de decisión*"
      ],
      "metadata": {
        "id": "6XRx7Ioxe909"
      }
    },
    {
      "cell_type": "code",
      "source": [
        "predArbol = modelArbol.predict(testData)\n",
        "print(classification_report(y_true = testLabels, y_pred = predArbol))"
      ],
      "metadata": {
        "id": "zAfWxTAFfCbw",
        "outputId": "5eb18d26-cfa7-4519-db37-4bb653babe61",
        "colab": {
          "base_uri": "https://localhost:8080/"
        }
      },
      "execution_count": 12,
      "outputs": [
        {
          "output_type": "stream",
          "name": "stdout",
          "text": [
            "              precision    recall  f1-score   support\n",
            "\n",
            "           0       0.88      0.76      0.81        66\n",
            "           1       0.79      0.79      0.79        42\n",
            "           2       0.65      0.59      0.62        69\n",
            "           3       0.73      0.67      0.70        66\n",
            "           4       0.64      0.67      0.65        66\n",
            "           5       0.68      0.64      0.66        74\n",
            "           6       0.74      0.83      0.78        71\n",
            "           7       0.71      0.83      0.76        58\n",
            "           8       0.48      0.53      0.50        58\n",
            "           9       0.64      0.61      0.63        70\n",
            "\n",
            "    accuracy                           0.69       640\n",
            "   macro avg       0.69      0.69      0.69       640\n",
            "weighted avg       0.69      0.69      0.69       640\n",
            "\n"
          ]
        }
      ]
    },
    {
      "cell_type": "code",
      "source": [
        "print(\"MATRIZ DE CONFUSIÓN USANDO ÁRBOL DE DECISIÓN\")\n",
        "print(confusion_matrix(testLabels, predArbol))"
      ],
      "metadata": {
        "id": "AKHRyid-fCZL",
        "outputId": "f9751108-dcab-4407-cffa-cfc47000db6a",
        "colab": {
          "base_uri": "https://localhost:8080/"
        }
      },
      "execution_count": 13,
      "outputs": [
        {
          "output_type": "stream",
          "name": "stdout",
          "text": [
            "MATRIZ DE CONFUSIÓN USANDO ÁRBOL DE DECISIÓN\n",
            "[[50  0  2  3  2  2  2  0  4  1]\n",
            " [ 0 33  0  1  0  1  2  3  2  0]\n",
            " [ 2  1 41  1  3  4  4  6  4  3]\n",
            " [ 1  1  1 44  0  6  1  2  7  3]\n",
            " [ 0  2  2  2 44  1  2  3  2  8]\n",
            " [ 1  1  1  5  5 47  2  1  6  5]\n",
            " [ 1  1  3  0  0  2 59  1  4  0]\n",
            " [ 0  0  5  0  1  2  0 48  1  1]\n",
            " [ 2  2  7  1  4  1  6  1 31  3]\n",
            " [ 0  1  1  3 10  3  2  3  4 43]]\n"
          ]
        }
      ]
    },
    {
      "cell_type": "markdown",
      "metadata": {
        "id": "ZKvfsVMZrpTA"
      },
      "source": [
        "##### Ejercicio\n",
        "\n",
        "Con el modelo KNN somos capaces de conseguir una precisión del 92%, aunque no está mal, se puede mejorar. Intenta construir un modelo que mejore estos resultados, puedes probar también a cambiar de descriptor."
      ]
    },
    {
      "cell_type": "code",
      "source": [
        "criterios = [\"gini\", \"entropy\", \"log_loss\"]\n",
        "maxFeatures = [\"sqrt\", \"log2\", None]"
      ],
      "metadata": {
        "id": "IpXadimahv8t"
      },
      "execution_count": 14,
      "outputs": []
    },
    {
      "cell_type": "code",
      "source": [
        "from sklearn.ensemble import RandomForestClassifier\n",
        "\n",
        "scoresArbol = [0]\n",
        "\n",
        "for k in range(2, 21):\n",
        "  modelBosque = RandomForestClassifier(n_estimators = 200, min_samples_split = k, bootstrap = False)\n",
        "  resultadosArbol = cross_val_score(modelKNN, trainData, trainLabels, cv = 10, scoring = 'accuracy')\n",
        "  scoresArbol.append(resultadosArbol.mean())\n",
        "\n",
        "print(scoresArbol)\n",
        "nMinsamplesSplit = scoresArbol.index(np.max(scoresArbol)) + 1\n",
        "print(\"El número de vecinos debe ser\", nMinsamplesSplit)"
      ],
      "metadata": {
        "id": "tBJO9qgSjaj9",
        "outputId": "b75f73eb-9e7c-4002-e0c0-84d5a6ffd252",
        "colab": {
          "base_uri": "https://localhost:8080/"
        }
      },
      "execution_count": 15,
      "outputs": [
        {
          "output_type": "stream",
          "name": "stdout",
          "text": [
            "[0, 0.9145833333333334, 0.9145833333333334, 0.9145833333333334, 0.9145833333333334, 0.9145833333333334, 0.9145833333333334, 0.9145833333333334, 0.9145833333333334, 0.9145833333333334, 0.9145833333333334, 0.9145833333333334, 0.9145833333333334, 0.9145833333333334, 0.9145833333333334, 0.9145833333333334, 0.9145833333333334, 0.9145833333333334, 0.9145833333333334, 0.9145833333333334]\n",
            "El número de vecinos debe ser 2\n"
          ]
        }
      ]
    },
    {
      "cell_type": "code",
      "execution_count": 16,
      "metadata": {
        "collapsed": true,
        "id": "yeg2bq6_rpTC",
        "outputId": "9b4460c4-7daa-4782-b13d-439cdd84d085",
        "colab": {
          "base_uri": "https://localhost:8080/",
          "height": 74
        }
      },
      "outputs": [
        {
          "output_type": "execute_result",
          "data": {
            "text/plain": [
              "RandomForestClassifier(bootstrap=False, n_estimators=1000)"
            ],
            "text/html": [
              "<style>#sk-container-id-3 {color: black;background-color: white;}#sk-container-id-3 pre{padding: 0;}#sk-container-id-3 div.sk-toggleable {background-color: white;}#sk-container-id-3 label.sk-toggleable__label {cursor: pointer;display: block;width: 100%;margin-bottom: 0;padding: 0.3em;box-sizing: border-box;text-align: center;}#sk-container-id-3 label.sk-toggleable__label-arrow:before {content: \"▸\";float: left;margin-right: 0.25em;color: #696969;}#sk-container-id-3 label.sk-toggleable__label-arrow:hover:before {color: black;}#sk-container-id-3 div.sk-estimator:hover label.sk-toggleable__label-arrow:before {color: black;}#sk-container-id-3 div.sk-toggleable__content {max-height: 0;max-width: 0;overflow: hidden;text-align: left;background-color: #f0f8ff;}#sk-container-id-3 div.sk-toggleable__content pre {margin: 0.2em;color: black;border-radius: 0.25em;background-color: #f0f8ff;}#sk-container-id-3 input.sk-toggleable__control:checked~div.sk-toggleable__content {max-height: 200px;max-width: 100%;overflow: auto;}#sk-container-id-3 input.sk-toggleable__control:checked~label.sk-toggleable__label-arrow:before {content: \"▾\";}#sk-container-id-3 div.sk-estimator input.sk-toggleable__control:checked~label.sk-toggleable__label {background-color: #d4ebff;}#sk-container-id-3 div.sk-label input.sk-toggleable__control:checked~label.sk-toggleable__label {background-color: #d4ebff;}#sk-container-id-3 input.sk-hidden--visually {border: 0;clip: rect(1px 1px 1px 1px);clip: rect(1px, 1px, 1px, 1px);height: 1px;margin: -1px;overflow: hidden;padding: 0;position: absolute;width: 1px;}#sk-container-id-3 div.sk-estimator {font-family: monospace;background-color: #f0f8ff;border: 1px dotted black;border-radius: 0.25em;box-sizing: border-box;margin-bottom: 0.5em;}#sk-container-id-3 div.sk-estimator:hover {background-color: #d4ebff;}#sk-container-id-3 div.sk-parallel-item::after {content: \"\";width: 100%;border-bottom: 1px solid gray;flex-grow: 1;}#sk-container-id-3 div.sk-label:hover label.sk-toggleable__label {background-color: #d4ebff;}#sk-container-id-3 div.sk-serial::before {content: \"\";position: absolute;border-left: 1px solid gray;box-sizing: border-box;top: 0;bottom: 0;left: 50%;z-index: 0;}#sk-container-id-3 div.sk-serial {display: flex;flex-direction: column;align-items: center;background-color: white;padding-right: 0.2em;padding-left: 0.2em;position: relative;}#sk-container-id-3 div.sk-item {position: relative;z-index: 1;}#sk-container-id-3 div.sk-parallel {display: flex;align-items: stretch;justify-content: center;background-color: white;position: relative;}#sk-container-id-3 div.sk-item::before, #sk-container-id-3 div.sk-parallel-item::before {content: \"\";position: absolute;border-left: 1px solid gray;box-sizing: border-box;top: 0;bottom: 0;left: 50%;z-index: -1;}#sk-container-id-3 div.sk-parallel-item {display: flex;flex-direction: column;z-index: 1;position: relative;background-color: white;}#sk-container-id-3 div.sk-parallel-item:first-child::after {align-self: flex-end;width: 50%;}#sk-container-id-3 div.sk-parallel-item:last-child::after {align-self: flex-start;width: 50%;}#sk-container-id-3 div.sk-parallel-item:only-child::after {width: 0;}#sk-container-id-3 div.sk-dashed-wrapped {border: 1px dashed gray;margin: 0 0.4em 0.5em 0.4em;box-sizing: border-box;padding-bottom: 0.4em;background-color: white;}#sk-container-id-3 div.sk-label label {font-family: monospace;font-weight: bold;display: inline-block;line-height: 1.2em;}#sk-container-id-3 div.sk-label-container {text-align: center;}#sk-container-id-3 div.sk-container {/* jupyter's `normalize.less` sets `[hidden] { display: none; }` but bootstrap.min.css set `[hidden] { display: none !important; }` so we also need the `!important` here to be able to override the default hidden behavior on the sphinx rendered scikit-learn.org. See: https://github.com/scikit-learn/scikit-learn/issues/21755 */display: inline-block !important;position: relative;}#sk-container-id-3 div.sk-text-repr-fallback {display: none;}</style><div id=\"sk-container-id-3\" class=\"sk-top-container\"><div class=\"sk-text-repr-fallback\"><pre>RandomForestClassifier(bootstrap=False, n_estimators=1000)</pre><b>In a Jupyter environment, please rerun this cell to show the HTML representation or trust the notebook. <br />On GitHub, the HTML representation is unable to render, please try loading this page with nbviewer.org.</b></div><div class=\"sk-container\" hidden><div class=\"sk-item\"><div class=\"sk-estimator sk-toggleable\"><input class=\"sk-toggleable__control sk-hidden--visually\" id=\"sk-estimator-id-3\" type=\"checkbox\" checked><label for=\"sk-estimator-id-3\" class=\"sk-toggleable__label sk-toggleable__label-arrow\">RandomForestClassifier</label><div class=\"sk-toggleable__content\"><pre>RandomForestClassifier(bootstrap=False, n_estimators=1000)</pre></div></div></div></div></div>"
            ]
          },
          "metadata": {},
          "execution_count": 16
        }
      ],
      "source": [
        "modelBosque = RandomForestClassifier(n_estimators = 1000, min_samples_split = nMinsamplesSplit, bootstrap = False)\n",
        "modelBosque.fit(trainData, trainLabels)"
      ]
    },
    {
      "cell_type": "code",
      "source": [
        "predBosque = modelBosque.predict(testData)\n",
        "print(classification_report(y_true = testLabels, y_pred = predBosque))"
      ],
      "metadata": {
        "id": "KoaHZmy_gHZ8",
        "outputId": "0a588c18-4945-4131-dde1-d5bef314e697",
        "colab": {
          "base_uri": "https://localhost:8080/"
        }
      },
      "execution_count": 17,
      "outputs": [
        {
          "output_type": "stream",
          "name": "stdout",
          "text": [
            "              precision    recall  f1-score   support\n",
            "\n",
            "           0       0.89      0.95      0.92        66\n",
            "           1       0.93      0.98      0.95        42\n",
            "           2       0.94      0.88      0.91        69\n",
            "           3       0.94      0.92      0.93        66\n",
            "           4       0.95      0.95      0.95        66\n",
            "           5       0.99      0.89      0.94        74\n",
            "           6       0.93      1.00      0.97        71\n",
            "           7       0.92      0.95      0.93        58\n",
            "           8       0.89      0.83      0.86        58\n",
            "           9       0.89      0.91      0.90        70\n",
            "\n",
            "    accuracy                           0.93       640\n",
            "   macro avg       0.93      0.93      0.93       640\n",
            "weighted avg       0.93      0.93      0.93       640\n",
            "\n"
          ]
        }
      ]
    },
    {
      "cell_type": "markdown",
      "source": [
        "Obtenemos una precisión del 93% con un árbol aleatorio"
      ],
      "metadata": {
        "id": "7vReJFHWETi4"
      }
    },
    {
      "cell_type": "markdown",
      "metadata": {
        "id": "rSlHToDyrpTE"
      },
      "source": [
        "## 4. Guardando y cargando el modelo\n",
        "\n",
        "El proceso de entrenar un modelo puede ser muy costoso, por lo que conviene guardar el modelo para poder recuperarlo posteriormente. Para ello utilizamos la librería `pickle`."
      ]
    },
    {
      "cell_type": "code",
      "execution_count": 18,
      "metadata": {
        "collapsed": true,
        "id": "j8mssyBdrpTG"
      },
      "outputs": [],
      "source": [
        "import pickle"
      ]
    },
    {
      "cell_type": "markdown",
      "metadata": {
        "id": "hBNMFGsNrpTa"
      },
      "source": [
        "La siguiente instrucción guarda el modelo en el fichero modelo.sav."
      ]
    },
    {
      "cell_type": "code",
      "execution_count": 19,
      "metadata": {
        "collapsed": true,
        "id": "KQFGpMKcrpTc"
      },
      "outputs": [],
      "source": [
        "pickle.dump(modelKNN, open('modelo.sav', 'wb'))"
      ]
    },
    {
      "cell_type": "markdown",
      "metadata": {
        "id": "x7qPMO07rpTg"
      },
      "source": [
        "La siguiente instrucción carga el modelo del fichero modelo.sav."
      ]
    },
    {
      "cell_type": "code",
      "execution_count": 20,
      "metadata": {
        "collapsed": true,
        "id": "3x2zof6zrpTi"
      },
      "outputs": [],
      "source": [
        "loaded_model = pickle.load(open('modelo.sav', 'rb'))"
      ]
    },
    {
      "cell_type": "markdown",
      "metadata": {
        "id": "B2eBR8o9rpTo"
      },
      "source": [
        "Ahora podemos usar el modelo igual que antes."
      ]
    },
    {
      "cell_type": "code",
      "execution_count": 21,
      "metadata": {
        "id": "jZfElrr1rpTo",
        "outputId": "de7ae90f-5209-480a-dc86-0a1c7c6d5d4b",
        "colab": {
          "base_uri": "https://localhost:8080/"
        }
      },
      "outputs": [
        {
          "output_type": "stream",
          "name": "stdout",
          "text": [
            "              precision    recall  f1-score   support\n",
            "\n",
            "           0       0.94      1.00      0.97        66\n",
            "           1       0.80      0.98      0.88        42\n",
            "           2       0.94      0.84      0.89        69\n",
            "           3       0.84      0.89      0.87        66\n",
            "           4       0.93      0.86      0.90        66\n",
            "           5       0.89      0.89      0.89        74\n",
            "           6       0.97      0.99      0.98        71\n",
            "           7       0.92      0.93      0.92        58\n",
            "           8       0.98      0.72      0.83        58\n",
            "           9       0.85      0.94      0.89        70\n",
            "\n",
            "    accuracy                           0.90       640\n",
            "   macro avg       0.91      0.91      0.90       640\n",
            "weighted avg       0.91      0.90      0.90       640\n",
            "\n"
          ]
        }
      ],
      "source": [
        "predictions = loaded_model.predict(testData)\n",
        "print(classification_report(testLabels, predictions))"
      ]
    },
    {
      "cell_type": "markdown",
      "metadata": {
        "id": "FhF8e0376aSO"
      },
      "source": [
        "Para descargar el fichero desde Colab a nuestro ordenador, hay que ejecutar las siguientes instrucciones (esta funcionalidad solo está disponible usando como navegador Google Chrome)."
      ]
    },
    {
      "cell_type": "code",
      "execution_count": 22,
      "metadata": {
        "id": "naUUYXRq6kd-",
        "outputId": "9e9dba30-6bfe-40e0-fa33-9d12798d18d0",
        "colab": {
          "base_uri": "https://localhost:8080/",
          "height": 17
        }
      },
      "outputs": [
        {
          "output_type": "display_data",
          "data": {
            "text/plain": [
              "<IPython.core.display.Javascript object>"
            ],
            "application/javascript": [
              "\n",
              "    async function download(id, filename, size) {\n",
              "      if (!google.colab.kernel.accessAllowed) {\n",
              "        return;\n",
              "      }\n",
              "      const div = document.createElement('div');\n",
              "      const label = document.createElement('label');\n",
              "      label.textContent = `Downloading \"${filename}\": `;\n",
              "      div.appendChild(label);\n",
              "      const progress = document.createElement('progress');\n",
              "      progress.max = size;\n",
              "      div.appendChild(progress);\n",
              "      document.body.appendChild(div);\n",
              "\n",
              "      const buffers = [];\n",
              "      let downloaded = 0;\n",
              "\n",
              "      const channel = await google.colab.kernel.comms.open(id);\n",
              "      // Send a message to notify the kernel that we're ready.\n",
              "      channel.send({})\n",
              "\n",
              "      for await (const message of channel.messages) {\n",
              "        // Send a message to notify the kernel that we're ready.\n",
              "        channel.send({})\n",
              "        if (message.buffers) {\n",
              "          for (const buffer of message.buffers) {\n",
              "            buffers.push(buffer);\n",
              "            downloaded += buffer.byteLength;\n",
              "            progress.value = downloaded;\n",
              "          }\n",
              "        }\n",
              "      }\n",
              "      const blob = new Blob(buffers, {type: 'application/binary'});\n",
              "      const a = document.createElement('a');\n",
              "      a.href = window.URL.createObjectURL(blob);\n",
              "      a.download = filename;\n",
              "      div.appendChild(a);\n",
              "      a.click();\n",
              "      div.remove();\n",
              "    }\n",
              "  "
            ]
          },
          "metadata": {}
        },
        {
          "output_type": "display_data",
          "data": {
            "text/plain": [
              "<IPython.core.display.Javascript object>"
            ],
            "application/javascript": [
              "download(\"download_5aae8e95-bc33-452d-97fb-e74d52139a78\", \"modelo.sav\", 1521372)"
            ]
          },
          "metadata": {}
        }
      ],
      "source": [
        "from google.colab import files\n",
        "files.download('modelo.sav')"
      ]
    },
    {
      "cell_type": "markdown",
      "metadata": {
        "id": "Rk_N3cHDrpTs"
      },
      "source": [
        "##### Ejercicio\n",
        "\n",
        "Guarda tu mejor modelo en el fichero `mimodelo.sav`."
      ]
    },
    {
      "cell_type": "code",
      "execution_count": 23,
      "metadata": {
        "collapsed": true,
        "id": "GRqog54PrpTs",
        "outputId": "21ef25f5-7078-4d23-8e7c-4a4f1eff2363",
        "colab": {
          "base_uri": "https://localhost:8080/"
        }
      },
      "outputs": [
        {
          "output_type": "stream",
          "name": "stdout",
          "text": [
            "              precision    recall  f1-score   support\n",
            "\n",
            "           0       0.89      0.95      0.92        66\n",
            "           1       0.93      0.98      0.95        42\n",
            "           2       0.94      0.88      0.91        69\n",
            "           3       0.94      0.92      0.93        66\n",
            "           4       0.95      0.95      0.95        66\n",
            "           5       0.99      0.89      0.94        74\n",
            "           6       0.93      1.00      0.97        71\n",
            "           7       0.92      0.95      0.93        58\n",
            "           8       0.89      0.83      0.86        58\n",
            "           9       0.89      0.91      0.90        70\n",
            "\n",
            "    accuracy                           0.93       640\n",
            "   macro avg       0.93      0.93      0.93       640\n",
            "weighted avg       0.93      0.93      0.93       640\n",
            "\n"
          ]
        }
      ],
      "source": [
        "# Guardamos y cargamos el modelo en el fichero mimodelo.sav\n",
        "pickle.dump(modelBosque, open('mimodelo.sav', 'wb'))\n",
        "loaded_model = pickle.load(open('mimodelo.sav', 'rb'))\n",
        "\n",
        "predictions = loaded_model.predict(testData)\n",
        "print(classification_report(testLabels, predictions))"
      ]
    },
    {
      "cell_type": "markdown",
      "metadata": {
        "id": "5EgieyQXrpTy"
      },
      "source": [
        "###### Ejercicio\n",
        "\n",
        "Realizar un estudio estadístico utilizando el paquete StatisticalAnalisis visto en la práctica 6.\n"
      ]
    },
    {
      "cell_type": "code",
      "execution_count": 24,
      "metadata": {
        "collapsed": true,
        "id": "JvNIEa3DrpT2",
        "outputId": "ea220d19-4ad1-4d3b-85a8-fcdec51a8ea3",
        "colab": {
          "base_uri": "https://localhost:8080/"
        }
      },
      "outputs": [
        {
          "output_type": "stream",
          "name": "stdout",
          "text": [
            "Collecting StatisticalAnalysis\n",
            "  Downloading StatisticalAnalysis-0.0.5.tar.gz (12 kB)\n",
            "  Preparing metadata (setup.py) ... \u001b[?25l\u001b[?25hdone\n",
            "Building wheels for collected packages: StatisticalAnalysis\n",
            "  Building wheel for StatisticalAnalysis (setup.py) ... \u001b[?25l\u001b[?25hdone\n",
            "  Created wheel for StatisticalAnalysis: filename=StatisticalAnalysis-0.0.5-py2.py3-none-any.whl size=13098 sha256=b4fffa979f647db978a135aa486fbcb9094e31bf34b6f665c94c9619a187e435\n",
            "  Stored in directory: /root/.cache/pip/wheels/8c/db/95/26b1f6f0da09912e26583c42371b4ac0d4fd1a8348a8636b6b\n",
            "Successfully built StatisticalAnalysis\n",
            "Installing collected packages: StatisticalAnalysis\n",
            "Successfully installed StatisticalAnalysis-0.0.5\n"
          ]
        }
      ],
      "source": [
        "!pip install StatisticalAnalysis\n",
        "from StatisticalAnalysis import compare_methods"
      ]
    },
    {
      "cell_type": "code",
      "source": [
        "from sklearn.neighbors import KNeighborsClassifier\n",
        "from sklearn.tree import DecisionTreeClassifier\n",
        "from sklearn.linear_model import LogisticRegression\n",
        "from sklearn.svm import SVC\n",
        "from sklearn.linear_model import Perceptron\n",
        "from sklearn.neural_network import MLPClassifier\n",
        "\n",
        "from scipy.stats import randint as sp_randint\n",
        "\n",
        "# Árbol de decisión\n",
        "clfTree = DecisionTreeClassifier(random_state=84)\n",
        "param_distTree = {\"min_samples_split\": sp_randint(3, 30)}\n",
        "# SVM\n",
        "clfSVC = SVC(random_state=84)\n",
        "param_distSVC = {'C': [1, 10, 100, 1000], 'gamma': [0.001, 0.0001],'kernel': ['rbf'], 'class_weight':['balanced', None]}\n",
        "# KNN\n",
        "clfKNN = KNeighborsClassifier()\n",
        "param_distKNN = {'n_neighbors':sp_randint(3, 30)}\n",
        "# Regresión logística\n",
        "clfLR = LogisticRegression(random_state=84)\n",
        "param_distLR = {'C': [0.1,0.5,1, 10, 100, 1000]}\n",
        "# Red neuronal\n",
        "clfMLP = MLPClassifier(random_state=84)\n",
        "param_distMLP = {'activation': ['identity', 'logistic', 'tanh', 'relu'], 'solver': ['lbfgs', 'sgd', 'adam'],\n",
        "                 'alpha': [0.0001, 0.001, 0.01, 0.1, 1], 'learning_rate': ['constant', 'invscaling', 'adaptive'],\n",
        "                 'hidden_layer_sizes': [(5,2), (3,3,3), (5,3,2), (5,4,3,2)],\n",
        "                 'momentum': [0.9, 0.95, 0.99]}\n",
        "# Bosque aleatorio"
      ],
      "metadata": {
        "id": "xOE1wMj5HUbN"
      },
      "execution_count": 43,
      "outputs": []
    },
    {
      "cell_type": "code",
      "source": [
        "listAlgorithms = [clfTree, clfSVC, clfKNN, clfLR, clfMLP, clfBosque]\n",
        "listParams = [param_distTree, param_distSVC, param_distKNN, param_distLR, param_distMLP, param_distBosque]\n",
        "listNames = [\"Arbol\", \"SVM\", \"KNN\", \"LR\", \"MLP\", \"Bosque\"]"
      ],
      "metadata": {
        "id": "PM4Jp2cLYmx8"
      },
      "execution_count": 44,
      "outputs": []
    },
    {
      "cell_type": "code",
      "source": [
        "compare_methods(datos, etiquetas, listAlgorithms, listParams, listNames, metric = 'auroc')"
      ],
      "metadata": {
        "id": "5mo9MWuxYmrt",
        "outputId": "2c833de4-8b95-44b8-92b3-d197000f3605",
        "colab": {
          "base_uri": "https://localhost:8080/",
          "height": 547
        }
      },
      "execution_count": 42,
      "outputs": [
        {
          "output_type": "error",
          "ename": "TypeError",
          "evalue": "only integer scalar arrays can be converted to a scalar index",
          "traceback": [
            "\u001b[0;31m---------------------------------------------------------------------------\u001b[0m",
            "\u001b[0;31mRemoteTraceback\u001b[0m                           Traceback (most recent call last)",
            "\u001b[0;31mRemoteTraceback\u001b[0m: \n\"\"\"\nTraceback (most recent call last):\n  File \"/usr/lib/python3.10/multiprocessing/pool.py\", line 125, in worker\n    result = (True, func(*args, **kwds))\n  File \"/usr/lib/python3.10/multiprocessing/pool.py\", line 48, in mapstar\n    return list(map(*args))\n  File \"/usr/local/lib/python3.10/dist-packages/StatisticalAnalysis/statisticalComparison.py\", line 338, in compare_method\n    trainData, testData = data[train_index], data[test_index]\nTypeError: only integer scalar arrays can be converted to a scalar index\n\"\"\"",
            "\nThe above exception was the direct cause of the following exception:\n",
            "\u001b[0;31mTypeError\u001b[0m                                 Traceback (most recent call last)",
            "\u001b[0;32m<ipython-input-42-9071593d4e71>\u001b[0m in \u001b[0;36m<cell line: 1>\u001b[0;34m()\u001b[0m\n\u001b[0;32m----> 1\u001b[0;31m \u001b[0mcompare_methods\u001b[0m\u001b[0;34m(\u001b[0m\u001b[0mdatos\u001b[0m\u001b[0;34m,\u001b[0m \u001b[0metiquetas\u001b[0m\u001b[0;34m,\u001b[0m \u001b[0mlistAlgorithms\u001b[0m\u001b[0;34m,\u001b[0m \u001b[0mlistParams\u001b[0m\u001b[0;34m,\u001b[0m \u001b[0mlistNames\u001b[0m\u001b[0;34m,\u001b[0m \u001b[0mmetric\u001b[0m \u001b[0;34m=\u001b[0m \u001b[0;34m'auroc'\u001b[0m\u001b[0;34m)\u001b[0m\u001b[0;34m\u001b[0m\u001b[0;34m\u001b[0m\u001b[0m\n\u001b[0m",
            "\u001b[0;32m/usr/local/lib/python3.10/dist-packages/StatisticalAnalysis/statisticalComparison.py\u001b[0m in \u001b[0;36mcompare_methods\u001b[0;34m(data, labels, listAlgorithms, listParameters, listAlgorithmNames, metric, alpha)\u001b[0m\n\u001b[1;32m    384\u001b[0m     \u001b[0mp\u001b[0m \u001b[0;34m=\u001b[0m \u001b[0mPool\u001b[0m\u001b[0;34m(\u001b[0m\u001b[0mlen\u001b[0m\u001b[0;34m(\u001b[0m\u001b[0mlistAlgorithms\u001b[0m\u001b[0;34m)\u001b[0m\u001b[0;34m)\u001b[0m\u001b[0;34m\u001b[0m\u001b[0;34m\u001b[0m\u001b[0m\n\u001b[1;32m    385\u001b[0m \u001b[0;34m\u001b[0m\u001b[0m\n\u001b[0;32m--> 386\u001b[0;31m     \u001b[0mcomparison\u001b[0m\u001b[0;34m=\u001b[0m\u001b[0mp\u001b[0m\u001b[0;34m.\u001b[0m\u001b[0mmap\u001b[0m\u001b[0;34m(\u001b[0m\u001b[0mcompare_method\u001b[0m\u001b[0;34m,\u001b[0m\u001b[0mtuple\u001b[0m\u001b[0;34m)\u001b[0m\u001b[0;34m\u001b[0m\u001b[0;34m\u001b[0m\u001b[0m\n\u001b[0m\u001b[1;32m    387\u001b[0m     \u001b[0;32mfor\u001b[0m \u001b[0;34m(\u001b[0m\u001b[0mname\u001b[0m\u001b[0;34m,\u001b[0m\u001b[0mcomp\u001b[0m\u001b[0;34m)\u001b[0m \u001b[0;32min\u001b[0m \u001b[0mcomparison\u001b[0m\u001b[0;34m:\u001b[0m\u001b[0;34m\u001b[0m\u001b[0;34m\u001b[0m\u001b[0m\n\u001b[1;32m    388\u001b[0m         \u001b[0mresults\u001b[0m\u001b[0;34m[\u001b[0m\u001b[0mname\u001b[0m\u001b[0;34m]\u001b[0m\u001b[0;34m.\u001b[0m\u001b[0mappend\u001b[0m\u001b[0;34m(\u001b[0m\u001b[0mcomp\u001b[0m\u001b[0;34m)\u001b[0m\u001b[0;34m\u001b[0m\u001b[0;34m\u001b[0m\u001b[0m\n",
            "\u001b[0;32m/usr/lib/python3.10/multiprocessing/pool.py\u001b[0m in \u001b[0;36mmap\u001b[0;34m(self, func, iterable, chunksize)\u001b[0m\n\u001b[1;32m    365\u001b[0m         \u001b[0;32min\u001b[0m \u001b[0ma\u001b[0m \u001b[0mlist\u001b[0m \u001b[0mthat\u001b[0m \u001b[0;32mis\u001b[0m \u001b[0mreturned\u001b[0m\u001b[0;34m.\u001b[0m\u001b[0;34m\u001b[0m\u001b[0;34m\u001b[0m\u001b[0m\n\u001b[1;32m    366\u001b[0m         '''\n\u001b[0;32m--> 367\u001b[0;31m         \u001b[0;32mreturn\u001b[0m \u001b[0mself\u001b[0m\u001b[0;34m.\u001b[0m\u001b[0m_map_async\u001b[0m\u001b[0;34m(\u001b[0m\u001b[0mfunc\u001b[0m\u001b[0;34m,\u001b[0m \u001b[0miterable\u001b[0m\u001b[0;34m,\u001b[0m \u001b[0mmapstar\u001b[0m\u001b[0;34m,\u001b[0m \u001b[0mchunksize\u001b[0m\u001b[0;34m)\u001b[0m\u001b[0;34m.\u001b[0m\u001b[0mget\u001b[0m\u001b[0;34m(\u001b[0m\u001b[0;34m)\u001b[0m\u001b[0;34m\u001b[0m\u001b[0;34m\u001b[0m\u001b[0m\n\u001b[0m\u001b[1;32m    368\u001b[0m \u001b[0;34m\u001b[0m\u001b[0m\n\u001b[1;32m    369\u001b[0m     \u001b[0;32mdef\u001b[0m \u001b[0mstarmap\u001b[0m\u001b[0;34m(\u001b[0m\u001b[0mself\u001b[0m\u001b[0;34m,\u001b[0m \u001b[0mfunc\u001b[0m\u001b[0;34m,\u001b[0m \u001b[0miterable\u001b[0m\u001b[0;34m,\u001b[0m \u001b[0mchunksize\u001b[0m\u001b[0;34m=\u001b[0m\u001b[0;32mNone\u001b[0m\u001b[0;34m)\u001b[0m\u001b[0;34m:\u001b[0m\u001b[0;34m\u001b[0m\u001b[0;34m\u001b[0m\u001b[0m\n",
            "\u001b[0;32m/usr/lib/python3.10/multiprocessing/pool.py\u001b[0m in \u001b[0;36mget\u001b[0;34m(self, timeout)\u001b[0m\n\u001b[1;32m    772\u001b[0m             \u001b[0;32mreturn\u001b[0m \u001b[0mself\u001b[0m\u001b[0;34m.\u001b[0m\u001b[0m_value\u001b[0m\u001b[0;34m\u001b[0m\u001b[0;34m\u001b[0m\u001b[0m\n\u001b[1;32m    773\u001b[0m         \u001b[0;32melse\u001b[0m\u001b[0;34m:\u001b[0m\u001b[0;34m\u001b[0m\u001b[0;34m\u001b[0m\u001b[0m\n\u001b[0;32m--> 774\u001b[0;31m             \u001b[0;32mraise\u001b[0m \u001b[0mself\u001b[0m\u001b[0;34m.\u001b[0m\u001b[0m_value\u001b[0m\u001b[0;34m\u001b[0m\u001b[0;34m\u001b[0m\u001b[0m\n\u001b[0m\u001b[1;32m    775\u001b[0m \u001b[0;34m\u001b[0m\u001b[0m\n\u001b[1;32m    776\u001b[0m     \u001b[0;32mdef\u001b[0m \u001b[0m_set\u001b[0m\u001b[0;34m(\u001b[0m\u001b[0mself\u001b[0m\u001b[0;34m,\u001b[0m \u001b[0mi\u001b[0m\u001b[0;34m,\u001b[0m \u001b[0mobj\u001b[0m\u001b[0;34m)\u001b[0m\u001b[0;34m:\u001b[0m\u001b[0;34m\u001b[0m\u001b[0;34m\u001b[0m\u001b[0m\n",
            "\u001b[0;31mTypeError\u001b[0m: only integer scalar arrays can be converted to a scalar index"
          ]
        }
      ]
    },
    {
      "cell_type": "markdown",
      "metadata": {
        "id": "n-dAy4StrpT6"
      },
      "source": [
        "##### Ejercicio\n",
        "\n",
        "En la práctica 5 se proporcionó un fichero que explicaba cómo utilizar la librería `keras` para construir un modelo capaz de predecir los dígitos manuscritos. Utiliza dicha funcionalidad para construir un modelo de predicción."
      ]
    },
    {
      "cell_type": "code",
      "execution_count": 24,
      "metadata": {
        "collapsed": true,
        "id": "cbKVpjXyrpT8"
      },
      "outputs": [],
      "source": []
    },
    {
      "cell_type": "markdown",
      "metadata": {
        "id": "HW5ZMyvnrpUA"
      },
      "source": [
        "##### Ejercicio\n",
        "\n",
        "El último ejercicio adicional que se propone consiste en combinar la funcionalidad de contornos vista en la práctica 7 y el clasificador de identificación de dígitos.\n",
        "\n",
        "Comenzamos cargando las librerías y funcionalidades necesarias."
      ]
    },
    {
      "cell_type": "code",
      "execution_count": 25,
      "metadata": {
        "collapsed": true,
        "id": "f6Q74dsorpUC"
      },
      "outputs": [],
      "source": [
        "import cv2\n",
        "import matplotlib.pyplot as plt\n",
        "import numpy as np\n",
        "import imutils\n",
        "%matplotlib inline"
      ]
    },
    {
      "cell_type": "code",
      "execution_count": 29,
      "metadata": {
        "collapsed": true,
        "id": "Mn5AmPrOrpUK"
      },
      "outputs": [],
      "source": [
        "def mostrarImagen(image):\n",
        "    if len(image.shape)==3:\n",
        "        img2 = image[:,:,::-1]\n",
        "        plt.imshow(img2)\n",
        "        plt.show()\n",
        "    else:\n",
        "        img2 = image\n",
        "        plt.imshow(img2,cmap='gray')\n",
        "        plt.show()"
      ]
    },
    {
      "cell_type": "markdown",
      "metadata": {
        "id": "2j_LtWsArpUO"
      },
      "source": [
        "Cargamos la imagen en la cual queremos leer los dígitos escritos y la mostramos."
      ]
    },
    {
      "cell_type": "code",
      "execution_count": 30,
      "metadata": {
        "collapsed": true,
        "id": "j9Wr-_SLrpUQ",
        "outputId": "20a5f0cd-afdd-48a8-81b0-65084776981b",
        "colab": {
          "base_uri": "https://localhost:8080/",
          "height": 627
        }
      },
      "outputs": [
        {
          "output_type": "stream",
          "name": "stdout",
          "text": [
            "--2024-04-20 16:35:42--  http://www.unirioja.es/cu/joheras/ia/p10/imagen1.png\n",
            "Resolving www.unirioja.es (www.unirioja.es)... 193.146.238.61\n",
            "Connecting to www.unirioja.es (www.unirioja.es)|193.146.238.61|:80... connected.\n",
            "HTTP request sent, awaiting response... 302 Object moved\n",
            "Location: https://www.unirioja.es:443/cu/joheras/ia/p10/imagen1.png [following]\n",
            "--2024-04-20 16:35:43--  https://www.unirioja.es/cu/joheras/ia/p10/imagen1.png\n",
            "Connecting to www.unirioja.es (www.unirioja.es)|193.146.238.61|:443... connected.\n",
            "HTTP request sent, awaiting response... 302 Found\n",
            "Location: /cu/joheras/ia/p10/imagen1.png [following]\n",
            "--2024-04-20 16:35:44--  https://www.unirioja.es/cu/joheras/ia/p10/imagen1.png\n",
            "Reusing existing connection to www.unirioja.es:443.\n",
            "HTTP request sent, awaiting response... 200 No headers, assuming HTTP/0.9\n",
            "Length: unspecified\n",
            "Saving to: ‘imagen1.png.2’\n",
            "\n",
            "imagen1.png.2           [               <=>  ] 311.46K  --.-KB/s    in 9.8s    \n",
            "\n",
            "2024-04-20 16:35:54 (31.8 KB/s) - ‘imagen1.png.2’ saved [318939]\n",
            "\n"
          ]
        },
        {
          "output_type": "error",
          "ename": "AttributeError",
          "evalue": "'NoneType' object has no attribute 'shape'",
          "traceback": [
            "\u001b[0;31m---------------------------------------------------------------------------\u001b[0m",
            "\u001b[0;31mAttributeError\u001b[0m                            Traceback (most recent call last)",
            "\u001b[0;32m<ipython-input-30-ffe70eb81dc2>\u001b[0m in \u001b[0;36m<cell line: 3>\u001b[0;34m()\u001b[0m\n\u001b[1;32m      1\u001b[0m \u001b[0mget_ipython\u001b[0m\u001b[0;34m(\u001b[0m\u001b[0;34m)\u001b[0m\u001b[0;34m.\u001b[0m\u001b[0msystem\u001b[0m\u001b[0;34m(\u001b[0m\u001b[0;34m'wget www.unirioja.es/cu/joheras/ia/p10/imagen1.png'\u001b[0m\u001b[0;34m)\u001b[0m\u001b[0;34m\u001b[0m\u001b[0;34m\u001b[0m\u001b[0m\n\u001b[1;32m      2\u001b[0m \u001b[0mimage\u001b[0m \u001b[0;34m=\u001b[0m \u001b[0mcv2\u001b[0m\u001b[0;34m.\u001b[0m\u001b[0mimread\u001b[0m\u001b[0;34m(\u001b[0m\u001b[0;34m\"imagen1.png\"\u001b[0m\u001b[0;34m)\u001b[0m\u001b[0;34m\u001b[0m\u001b[0;34m\u001b[0m\u001b[0m\n\u001b[0;32m----> 3\u001b[0;31m \u001b[0mmostrarImagen\u001b[0m\u001b[0;34m(\u001b[0m\u001b[0mimage\u001b[0m\u001b[0;34m)\u001b[0m\u001b[0;34m\u001b[0m\u001b[0;34m\u001b[0m\u001b[0m\n\u001b[0m",
            "\u001b[0;32m<ipython-input-29-547666f4823b>\u001b[0m in \u001b[0;36mmostrarImagen\u001b[0;34m(image)\u001b[0m\n\u001b[1;32m      1\u001b[0m \u001b[0;32mdef\u001b[0m \u001b[0mmostrarImagen\u001b[0m\u001b[0;34m(\u001b[0m\u001b[0mimage\u001b[0m\u001b[0;34m)\u001b[0m\u001b[0;34m:\u001b[0m\u001b[0;34m\u001b[0m\u001b[0;34m\u001b[0m\u001b[0m\n\u001b[0;32m----> 2\u001b[0;31m     \u001b[0;32mif\u001b[0m \u001b[0mlen\u001b[0m\u001b[0;34m(\u001b[0m\u001b[0mimage\u001b[0m\u001b[0;34m.\u001b[0m\u001b[0mshape\u001b[0m\u001b[0;34m)\u001b[0m\u001b[0;34m==\u001b[0m\u001b[0;36m3\u001b[0m\u001b[0;34m:\u001b[0m\u001b[0;34m\u001b[0m\u001b[0;34m\u001b[0m\u001b[0m\n\u001b[0m\u001b[1;32m      3\u001b[0m         \u001b[0mimg2\u001b[0m \u001b[0;34m=\u001b[0m \u001b[0mimage\u001b[0m\u001b[0;34m[\u001b[0m\u001b[0;34m:\u001b[0m\u001b[0;34m,\u001b[0m\u001b[0;34m:\u001b[0m\u001b[0;34m,\u001b[0m\u001b[0;34m:\u001b[0m\u001b[0;34m:\u001b[0m\u001b[0;34m-\u001b[0m\u001b[0;36m1\u001b[0m\u001b[0;34m]\u001b[0m\u001b[0;34m\u001b[0m\u001b[0;34m\u001b[0m\u001b[0m\n\u001b[1;32m      4\u001b[0m         \u001b[0mplt\u001b[0m\u001b[0;34m.\u001b[0m\u001b[0mimshow\u001b[0m\u001b[0;34m(\u001b[0m\u001b[0mimg2\u001b[0m\u001b[0;34m)\u001b[0m\u001b[0;34m\u001b[0m\u001b[0;34m\u001b[0m\u001b[0m\n\u001b[1;32m      5\u001b[0m         \u001b[0mplt\u001b[0m\u001b[0;34m.\u001b[0m\u001b[0mshow\u001b[0m\u001b[0;34m(\u001b[0m\u001b[0;34m)\u001b[0m\u001b[0;34m\u001b[0m\u001b[0;34m\u001b[0m\u001b[0m\n",
            "\u001b[0;31mAttributeError\u001b[0m: 'NoneType' object has no attribute 'shape'"
          ]
        }
      ],
      "source": [
        "!wget www.unirioja.es/cu/joheras/ia/p10/imagen1.png\n",
        "image = cv2.imread(\"imagen1.png\")\n",
        "mostrarImagen(image)"
      ]
    },
    {
      "cell_type": "markdown",
      "metadata": {
        "id": "uTcBihqWrpUS"
      },
      "source": [
        "Convierte la imagen a escala de grises."
      ]
    },
    {
      "cell_type": "code",
      "execution_count": null,
      "metadata": {
        "collapsed": true,
        "id": "zflRNaNBrpUY"
      },
      "outputs": [],
      "source": []
    },
    {
      "cell_type": "markdown",
      "metadata": {
        "id": "r4j1_OterpUc"
      },
      "source": [
        "Aplica una umbralización con valor de umbral 80."
      ]
    },
    {
      "cell_type": "code",
      "execution_count": null,
      "metadata": {
        "collapsed": true,
        "id": "KwAgf5kFrpUc"
      },
      "outputs": [],
      "source": []
    },
    {
      "cell_type": "markdown",
      "metadata": {
        "id": "Qc99vdL3rpUe"
      },
      "source": [
        "Busca los cortornos de la imagen, y para cada uno de ellos encuentra el bounding box que lo contiene."
      ]
    },
    {
      "cell_type": "code",
      "execution_count": null,
      "metadata": {
        "collapsed": true,
        "id": "SgottONIrpUe"
      },
      "outputs": [],
      "source": []
    },
    {
      "cell_type": "markdown",
      "metadata": {
        "id": "Pa2R6lcxrpUg"
      },
      "source": [
        "Utilizando el bounding box que contiene al contorno, predice el número contenido utilizando el modelo que hayas definido y muestra el resultado en la imagen. Debes tener en cuenta varias cosas, las imágenes del dataset tienen tamaño 28x28, por lo que es posible que tengas que reescalar tu imagen, además en las imágenes el digito aparece en blanco con fondo negro, mientras que en la imagen está justo al revés, por lo que tendrás que invertir los colores."
      ]
    },
    {
      "cell_type": "code",
      "execution_count": null,
      "metadata": {
        "collapsed": true,
        "id": "HMI6wSMPrpUg"
      },
      "outputs": [],
      "source": []
    },
    {
      "cell_type": "markdown",
      "metadata": {
        "id": "G18bGc9s90f3"
      },
      "source": [
        "Guarda este fichero con tus soluciones a los distintos ejercicios usando la opción **\"Save in Github...\"**."
      ]
    }
  ],
  "metadata": {
    "colab": {
      "name": "practica8.ipynb",
      "provenance": [],
      "include_colab_link": true
    },
    "kernelspec": {
      "display_name": "Python 3 (ipykernel)",
      "language": "python",
      "name": "python3"
    },
    "language_info": {
      "codemirror_mode": {
        "name": "ipython",
        "version": 3
      },
      "file_extension": ".py",
      "mimetype": "text/x-python",
      "name": "python",
      "nbconvert_exporter": "python",
      "pygments_lexer": "ipython3",
      "version": "3.8.10"
    }
  },
  "nbformat": 4,
  "nbformat_minor": 0
}